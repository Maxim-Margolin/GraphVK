{
  "nbformat": 4,
  "nbformat_minor": 0,
  "metadata": {
    "colab": {
      "provenance": [],
      "collapsed_sections": []
    },
    "kernelspec": {
      "name": "python3",
      "display_name": "Python 3"
    },
    "language_info": {
      "name": "python"
    },
    "gpuClass": "standard"
  },
  "cells": [
    {
      "cell_type": "code",
      "execution_count": null,
      "metadata": {
        "colab": {
          "base_uri": "https://localhost:8080/"
        },
        "id": "vihvMcYWHITl",
        "outputId": "32041b8a-c304-4b73-cc9a-64f51b90afdb"
      },
      "outputs": [
        {
          "output_type": "stream",
          "name": "stdout",
          "text": [
            "Looking in indexes: https://pypi.org/simple, https://us-python.pkg.dev/colab-wheels/public/simple/\n",
            "Collecting vk\n",
            "  Downloading vk-3.0-py3-none-any.whl (11 kB)\n",
            "Collecting requests~=2.24\n",
            "  Downloading requests-2.28.1-py3-none-any.whl (62 kB)\n",
            "\u001b[K     |████████████████████████████████| 62 kB 1.1 MB/s \n",
            "\u001b[?25hRequirement already satisfied: charset-normalizer<3,>=2 in /usr/local/lib/python3.7/dist-packages (from requests~=2.24->vk) (2.1.1)\n",
            "Requirement already satisfied: idna<4,>=2.5 in /usr/local/lib/python3.7/dist-packages (from requests~=2.24->vk) (2.10)\n",
            "Requirement already satisfied: urllib3<1.27,>=1.21.1 in /usr/local/lib/python3.7/dist-packages (from requests~=2.24->vk) (1.24.3)\n",
            "Requirement already satisfied: certifi>=2017.4.17 in /usr/local/lib/python3.7/dist-packages (from requests~=2.24->vk) (2022.9.24)\n",
            "Installing collected packages: requests, vk\n",
            "  Attempting uninstall: requests\n",
            "    Found existing installation: requests 2.23.0\n",
            "    Uninstalling requests-2.23.0:\n",
            "      Successfully uninstalled requests-2.23.0\n",
            "Successfully installed requests-2.28.1 vk-3.0\n"
          ]
        }
      ],
      "source": [
        "pip install vk"
      ]
    },
    {
      "cell_type": "code",
      "source": [
        "import vk\n",
        "from vk.session import requests\n",
        "import json"
      ],
      "metadata": {
        "id": "3D6cWJjdHbpU"
      },
      "execution_count": null,
      "outputs": []
    },
    {
      "cell_type": "code",
      "source": [
        "import numpy as np\n",
        "import pandas as pd\n",
        "from pandas_profiling import ProfileReport"
      ],
      "metadata": {
        "id": "NnTz3FPgHdCs"
      },
      "execution_count": null,
      "outputs": []
    },
    {
      "cell_type": "code",
      "source": [
        "import copy\n",
        "import time "
      ],
      "metadata": {
        "id": "32kua7DAHdG9"
      },
      "execution_count": null,
      "outputs": []
    },
    {
      "cell_type": "code",
      "source": [
        "import networkx as nx\n",
        "import matplotlib as plt\n",
        "plt.rcParams['figure.figsize'] = [50, 50]"
      ],
      "metadata": {
        "id": "u80tuFwmHONY"
      },
      "execution_count": null,
      "outputs": []
    },
    {
      "cell_type": "code",
      "source": [
        "from google.colab import files\n",
        "FileRead = open('/content/token.txt', 'r')\n",
        "token = FileRead.read()#Вывод первых 100 символов\n",
        "# в конце файл необходимо закрыть\n",
        "FileRead.close()\n",
        "version = 5.126\n",
        "users_idGroup = [181948702, 154308430, 152087036, 143779216, 185215592, 161594007, 472583599, 113001678, 183648122, 196404046, \n",
        "    85770676, 355133495, 137872152, 102711908, 126568936, 507184348, 458357505, 131765293, 323208790, 173792332, 343410069, \n",
        "    346034855, 255053910, 338686058, 312616596]"
      ],
      "metadata": {
        "id": "49gTbq9JHhb1"
      },
      "execution_count": null,
      "outputs": []
    },
    {
      "cell_type": "code",
      "source": [
        "def RequestsUsersGet(users_id, i):\n",
        "  response = requests.get(\"https://api.vk.com/method/users.get\",\n",
        "                        params={\n",
        "                            \"user_id\": users_id[i],\n",
        "                            \"name_case\": \"nom\",\n",
        "                            \"fields\": \"nickname\",\n",
        "                            \"access_token\": token,\n",
        "                            \"v\": 5.131\n",
        "                        }\n",
        "                        )  \n",
        "  if(response.json()):\n",
        "    data = response.json()\n",
        "  return data"
      ],
      "metadata": {
        "id": "W1RjpUFCHheO"
      },
      "execution_count": null,
      "outputs": []
    },
    {
      "cell_type": "code",
      "source": [
        "def RequestsFriendsGet(users_id, j):\n",
        "  if(j %  100 == 0):\n",
        "    time.sleep(3)\n",
        "  response = requests.get(\"https://api.vk.com/method/friends.get\",\n",
        "                        params={\n",
        "                            \"user_id\": users_id[j],\n",
        "                            \"order\": \"name\",\n",
        "                            \"count\": 5000,\n",
        "                            \"offset\": 0,\n",
        "                            \"fields\": \"nickname\",\n",
        "\n",
        "                            \"access_token\": token,\n",
        "                            \"v\": version\n",
        "                        }\n",
        "                        )\n",
        "  if(response.json()): #написать проверку здесь\n",
        "    data = response.json()\n",
        "  return data"
      ],
      "metadata": {
        "id": "3DhInurNHkY4"
      },
      "execution_count": null,
      "outputs": []
    },
    {
      "cell_type": "code",
      "source": [
        "frameGroup = pd.DataFrame(columns=['main_id', 'first_name', 'last_name'])\n",
        "frameFriends = pd.DataFrame(columns=['main_id', 'id_friend', 'first_name', 'last_name'])\n",
        "frameFriendsOfFriends = pd.DataFrame(columns=['main_id', 'id_friend', 'first_name', 'last_name'])\n",
        "GraphCentrality = nx.Graph()\n",
        "\n",
        "#1 уровень (получаем информацию о одногруппниках)\n",
        "for i in range(len(users_idGroup)):\n",
        "  try: dataGroup = RequestsUsersGet(users_idGroup, i)\n",
        "  except: continue\n",
        "  try: \n",
        "    if dataGroup['response'][0]['is_closed'] == True: \n",
        "      ClosedAcc = \"Доступ к странице пользователя недоступен\"\n",
        "    else: \n",
        "      frameGroup = frameGroup.append({'main_id': dataGroup['response'][0]['id'], 'first_name': dataGroup['response'][0]['first_name'], 'last_name': dataGroup['response'][0]['last_name']}, ignore_index=True)\n",
        "  except:\n",
        "    errorVK = \"Ошибка сервера ВК - не получен доступ к аккаунту\"\n",
        "\n",
        "#2 уровень (получаем информациою о друзьях одногруппников)\n",
        "for j in range(len(frameGroup.main_id)):\n",
        "  try: dataFriends = RequestsFriendsGet(frameGroup.main_id, j)\n",
        "  except: continue\n",
        "  countOfUserFriends = dataFriends['response']['count']\n",
        "  for jx in range(countOfUserFriends):\n",
        "    try:\n",
        "      if dataFriends['response']['items'][jx]['deactivated'] == \"banned\": banned = \"Сработало исключение - banned\"\n",
        "      if dataFriends['response']['items'][jx]['deactivated'] == \"deleted\": deleted = \"Сработало исключение - deleted\"\n",
        "    except:  \n",
        "      try: \n",
        "        if dataFriends['response']['items'][jx]['is_closed'] == True: ClosedAcc = \"Доступ к странице пользователя недоступен\"\n",
        "        else: \n",
        "          frameFriends = frameFriends.append({'main_id': frameGroup.main_id[j],'id_friend': dataFriends['response']['items'][jx]['id'], 'first_name': dataFriends['response']['items'][jx]['first_name'], 'last_name': dataFriends['response']['items'][jx]['last_name']}, ignore_index=True)\n",
        "          GraphCentrality.add_edge(frameGroup.first_name[j] + \" \" + frameGroup.last_name[j], dataFriends['response']['items'][jx]['first_name'] + \" \" + dataFriends['response']['items'][jx]['last_name'])\n",
        "      except: errorVK = \"Ошибка сервера ВК - не получен доступ к аккаунту\"\n",
        "\n",
        "\n",
        "#2.1 проверка на связь друзей 2 уровня\n",
        "for n in range(len(frameFriends.id_friend.unique())):\n",
        "  try: ndataFriends = RequestsFriendsGet(frameFriends.id_friend.unique(), n)\n",
        "  except: continue\n",
        "  ncountOfUserFriends = ndataFriends['response']['count']\n",
        "  for nx in range(ndataFriends['response']['count']): \n",
        "    try:\n",
        "      if ndataFriends['response']['items'][nx]['deactivated'] == \"banned\": banned = \"Сработало исключение - banned\"\n",
        "      if ndataFriends['response']['items'][nx]['deactivated'] == \"deleted\": deleted = \"Сработало исключение - deleted\"\n",
        "    except:  \n",
        "      try: \n",
        "        if ndataFriends['response']['items'][nx]['is_closed'] == True: ClosedAcc = \"Доступ к странице пользователя недоступен\"\n",
        "        else: \n",
        "          for ny in range(len(frameFriends.id_friend)):\n",
        "            if ndataFriends['response']['items'][nx]['id'] == frameFriends.id_friend[ny]:\n",
        "              GraphCentrality.add_edge(frameFriends.first_name[ny] + \" \" + frameFriends.last_name[ny], ndataFriends['response']['items'][nx]['first_name'] + \" \" + ndataFriends['response']['items'][nx]['last_name'])\n",
        "              break\n",
        "      except: errorVK = \"Ошибка сервера ВК - не получен доступ к аккаунту\"\n",
        "  del ndataFriends\n",
        "\n",
        "#3 уровень (получаем информацию о друзьях друзей одногруппников)\n",
        "#for k in range(len(frameFriends.main_id)):\n",
        "  #dataFriendsOfFrineds = RequestsFriendsGet(frameFriends.main_id, k)\n",
        "  #countOfUserFriendsOfFriends = dataFriendsOfFrineds['response']['count']\n",
        "  #for kx in range(countOfUserFriendsOfFriends):\n",
        "    #try:\n",
        "      #if dataFriendsOfFrineds['response']['items'][kx]['deactivated'] == \"banned\": banned = \"Сработало исключение - banned\"\n",
        "      #if dataFriendsOfFrineds['response']['items'][kx]['deactivated'] == \"deleted\": deleted = \"Сработало исключение - deleted\"\n",
        "    #except:  \n",
        "      #try: \n",
        "        #if dataFriendsOfFrineds['response']['items'][kx]['is_closed'] == True: ClosedAcc = \"Доступ к странице пользователя недоступен\"\n",
        "        #else: \n",
        "          #frameFriendsOfFriends = frameFriendsOfFriends.append({'main_id': frameFriends.main_id[j],'id_friend': dataFriendsOfFrineds['response']['items'][jx]['id'], 'first_name': dataFriendsOfFrineds['response']['items'][jx]['first_name'], 'last_name': dataFriendsOfFrineds['response']['items'][jx]['last_name']}, ignore_index=True)\n",
        "          #GraphCentrality.add_edge(frameFriends.first_name[k] + \" \" + frameFriends.last_name[k], dataFriends['response']['items'][kx]['first_name'] + \" \" + dataFriends['response']['items'][kx]['last_name'])\n",
        "      #except: errorVK = \"Ошибка сервера ВК - не получен доступ к аккаунту\"\n",
        "\n",
        "\n",
        "#3.1 проверка на связь друзей 3 уровня\n",
        "#for m in range(len(frameFriendsOfFriends.id_friend.unique())):\n",
        "  #mdataFriendOfFriends = RequestsFriendsGet(frameFriendsOfFriends.id_friend.unique(), m)\n",
        "  #mcountOfUserFriends = mdataFriendOfFriends['response']['count']\n",
        "  #for mx in range(mcountOfUserFriends): \n",
        "    #try:\n",
        "      #if mdataFriendOfFriends['response']['items'][mx]['deactivated'] == \"banned\": banned = \"Сработало исключение - banned\"\n",
        "      #if mdataFriendOfFriends['response']['items'][mx]['deactivated'] == \"deleted\": deleted = \"Сработало исключение - deleted\"\n",
        "    #except:  \n",
        "      #try: \n",
        "        #if mdataFriendOfFriends['response']['items'][mx]['is_closed'] == True: ClosedAcc = \"Доступ к странице пользователя недоступен\"\n",
        "        #else: \n",
        "          #for my in range(len(frameFriendsOfFriends.id_friend)):\n",
        "            #if mdataFriendOfFriends['response']['items'][mx]['id'] == frameFriendsOfFriends.id_friend[my]:\n",
        "              #GraphCentrality.add_edge(frameFriendsOfFriends.first_name[my] + \" \" + frameFriendsOfFriends.last_name[my], mdataFriendOfFriends['response']['items'][mx]['first_name'] + \" \" + mdataFriendOfFriends['response']['items'][mx]['last_name'])\n",
        "              #break\n",
        "      #except: errorVK = \"Ошибка сервера ВК - не получен доступ к аккаунту\""
      ],
      "metadata": {
        "id": "k2XlXpuvHkbC"
      },
      "execution_count": null,
      "outputs": []
    },
    {
      "cell_type": "code",
      "source": [
        "pos = nx.spring_layout(GraphCentrality,scale=40, k=0.30, iterations=20)\n",
        "nx.draw(GraphCentrality, pos, font_size=6, node_size=750, alpha=0.7, with_labels=True, edge_color='gray')\n",
        "nx.draw(GraphCentrality)"
      ],
      "metadata": {
        "id": "tVThgSsuHkdO"
      },
      "execution_count": null,
      "outputs": []
    },
    {
      "cell_type": "code",
      "source": [
        "close_centrality = nx.closeness_centrality(GraphCentrality)\n",
        "print(\"Оценка центральности по посредничеству\")\n",
        "close_centrality = sorted(close_centrality.items(), key=lambda item: item[1], reverse=True)\n",
        "for i in range(10):\n",
        "  print(close_centrality[i])"
      ],
      "metadata": {
        "id": "38e5jnByHqQa",
        "colab": {
          "base_uri": "https://localhost:8080/"
        },
        "outputId": "0865b8dc-a15d-437b-c046-b8d149487402"
      },
      "execution_count": null,
      "outputs": [
        {
          "output_type": "stream",
          "name": "stdout",
          "text": [
            "Оценка центральности по посредничеству\n",
            "('Mikhail Nikiforov', 0.472399549380398)\n",
            "('Dmitry Medvedev', 0.4166252690842855)\n",
            "('Evgeny Malinovsky', 0.41239141124405837)\n",
            "('Andrey Maslov', 0.3977236800505849)\n",
            "('Artem Novikov', 0.3842394624312767)\n",
            "('Igor Kotilevets', 0.38289453660021305)\n",
            "('Dmitry Vlasov', 0.3761961722488038)\n",
            "('Sergey Ivanov', 0.3733491615966761)\n",
            "('Leonid Saburov', 0.36896905704648775)\n",
            "('Anna Zaytseva', 0.36342626029178104)\n"
          ]
        }
      ]
    },
    {
      "cell_type": "code",
      "source": [
        "bet_centrality = nx.betweenness_centrality(GraphCentrality, normalized = True, endpoints = False)\n",
        "print(\"Оценка центральности по близости\")\n",
        "bet_centrality = sorted(bet_centrality.items(), key=lambda item: item[1], reverse=True)\n",
        "for i in range(10):\n",
        "  print(bet_centrality[i])"
      ],
      "metadata": {
        "id": "Aa6snGO4HqSa",
        "colab": {
          "base_uri": "https://localhost:8080/"
        },
        "outputId": "d4b1d4c8-751e-4a83-c216-d7269b3c432e"
      },
      "execution_count": null,
      "outputs": [
        {
          "output_type": "stream",
          "name": "stdout",
          "text": [
            "Оценка центральности по близости\n",
            "('Mikhail Nikiforov', 0.6669530994196431)\n",
            "('Andrey Maslov', 0.25715274378919784)\n",
            "('Evgeny Malinovsky', 0.1505000705920614)\n",
            "('Nikita Skvortsov', 0.142347269087647)\n",
            "('Egor Ruzaikin', 0.12437163528421231)\n",
            "('Dmitry Medvedev', 0.10922676986579842)\n",
            "('Ruslan Chkadua', 0.10795940442258023)\n",
            "('Anna Zaytseva', 0.08962779140987624)\n",
            "('Shokhin Gulyamov', 0.0825018094928047)\n",
            "('Dmitry Vlasov', 0.06512090948497067)\n"
          ]
        }
      ]
    },
    {
      "cell_type": "code",
      "source": [
        "eigenvector_centrality = nx.eigenvector_centrality_numpy(GraphCentrality)\n",
        "print(\"Оценка центральности по собственному вектору\")\n",
        "eigenvector_centrality = sorted(eigenvector_centrality.items(), key=lambda item: item[1], reverse=True)\n",
        "for i in range(10):\n",
        "  print(eigenvector_centrality[i])"
      ],
      "metadata": {
        "id": "GputkPtXHkfe",
        "colab": {
          "base_uri": "https://localhost:8080/"
        },
        "outputId": "d89be0c0-242f-41c4-d270-3f51a6f968a6"
      },
      "execution_count": null,
      "outputs": [
        {
          "output_type": "stream",
          "name": "stdout",
          "text": [
            "Оценка центральности по собственному вектору\n",
            "('Mikhail Nikiforov', 0.7060896549210794)\n",
            "('Evgeny Malinovsky', 0.04369264372060153)\n",
            "('Dmitry Medvedev', 0.034747599891845414)\n",
            "('Leonid Saburov', 0.02384350381098965)\n",
            "('Masha Chernysheva', 0.023766255377507893)\n",
            "('Radion Korolyov', 0.023766255377507893)\n",
            "('Danila Shavel', 0.02376625537750789)\n",
            "('Denis Raev', 0.023766255377507886)\n",
            "('Alexander Ermakov', 0.023766255377507883)\n",
            "('Anastasia Konyushko', 0.023766255377507883)\n"
          ]
        }
      ]
    }
  ]
}